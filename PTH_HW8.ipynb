{
  "cells": [
    {
      "cell_type": "code",
      "execution_count": 1,
      "id": "ef9e5be5",
      "metadata": {
        "id": "ef9e5be5"
      },
      "outputs": [],
      "source": [
        "import numpy as np\n",
        "import pandas as pd\n",
        "from scipy import stats"
      ]
    },
    {
      "cell_type": "markdown",
      "id": "bad1d128",
      "metadata": {
        "id": "bad1d128"
      },
      "source": [
        "## Задача 1\n",
        "\n",
        "_Даны значения величины заработной платы заемщиков банка (zp) и значения их поведенческого кредитного скоринга (ks):_  \n",
        "> zp = [35, 45, 190, 200, 40, 70, 54, 150, 120, 110]  \n",
        "> ks = [401, 574, 874, 919, 459, 739, 653, 902, 746, 832]  \n",
        ">\n",
        "_Найдите ковариацию этих двух величин с помощью элементарных действий, а затем с помощью функции cov из numpy. Полученные значения должны быть равны._  \n",
        "_Найдите коэффициент корреляции Пирсона с помощью ковариации и средних квадратических отклонений двух признаков, а затем с использованием  функций из библиотек numpy и pandas._"
      ]
    },
    {
      "cell_type": "markdown",
      "id": "b008fccc",
      "metadata": {
        "id": "b008fccc"
      },
      "source": [
        "1. Найдем ковариацию этих двух величин  \n",
        "    \n",
        "1.1 Без использования специальных функций\n",
        ""
      ]
    },
    {
      "cell_type": "code",
      "execution_count": 19,
      "id": "ae84ed4b",
      "metadata": {
        "colab": {
          "base_uri": "https://localhost:8080/"
        },
        "id": "ae84ed4b",
        "outputId": "c9227f86-ed86-40dd-9b77-ef9f60d48520"
      },
      "outputs": [
        {
          "output_type": "stream",
          "name": "stdout",
          "text": [
            "Ковариация:  9157.839999999997\n"
          ]
        }
      ],
      "source": [
        "zp  = np.array([35, 45, 190, 200, 40, 70, 54, 150, 120, 110])\n",
        "ks = np.array([401, 574, 874, 919, 459, 739, 653, 902, 746, 832])\n",
        "\n",
        "cov_r = (zp * ks).mean() - zp.mean() * ks.mean()\n",
        "print(\"Ковариация: \", cov_r)\n",
        "\n"
      ]
    },
    {
      "cell_type": "markdown",
      "id": "a72627c6",
      "metadata": {
        "id": "a72627c6"
      },
      "source": [
        "    \n",
        "1.2 С помощью функции numpy.cov"
      ]
    },
    {
      "cell_type": "code",
      "execution_count": 20,
      "id": "6b65edc4",
      "metadata": {
        "colab": {
          "base_uri": "https://localhost:8080/"
        },
        "id": "6b65edc4",
        "outputId": "59f83a5c-cdb6-4fa2-ddc5-01ee466522a6"
      },
      "outputs": [
        {
          "output_type": "stream",
          "name": "stdout",
          "text": [
            "Ковариация:  9157.84\n"
          ]
        }
      ],
      "source": [
        "cov = np.cov(zp, ks, ddof=0)\n",
        "print(\"Ковариация: \", cov[1, 0])\n"
      ]
    },
    {
      "cell_type": "markdown",
      "id": "6ff7c843",
      "metadata": {
        "id": "6ff7c843"
      },
      "source": [
        "2. Найдем коэффициент корреляции\n",
        "\n",
        "2.1 Без использования специальных функций"
      ]
    },
    {
      "cell_type": "code",
      "execution_count": 7,
      "id": "a9b33c5b",
      "metadata": {
        "colab": {
          "base_uri": "https://localhost:8080/"
        },
        "id": "a9b33c5b",
        "outputId": "1fd7c2b6-8171-4268-ce61-86e3e450c939"
      },
      "outputs": [
        {
          "output_type": "stream",
          "name": "stdout",
          "text": [
            "Коэффициент корреляции:  0.8874900920739158\n"
          ]
        }
      ],
      "source": [
        "corr = cov_r / (zp.std() * ks.std())\n",
        "print(\"Коэффициент корреляции: \", corr)"
      ]
    },
    {
      "cell_type": "markdown",
      "id": "ae9e3c15",
      "metadata": {
        "id": "ae9e3c15"
      },
      "source": [
        "2.2 с помощью специальных функций из библиотек numpy и pandas"
      ]
    },
    {
      "cell_type": "code",
      "execution_count": 9,
      "id": "aae153a5",
      "metadata": {
        "colab": {
          "base_uri": "https://localhost:8080/",
          "height": 112
        },
        "id": "aae153a5",
        "outputId": "52ab8964-e96a-4edd-da46-cc9da12f000e"
      },
      "outputs": [
        {
          "output_type": "execute_result",
          "data": {
            "text/plain": [
              "         ZP       KS\n",
              "ZP  1.00000  0.88749\n",
              "KS  0.88749  1.00000"
            ],
            "text/html": [
              "\n",
              "  <div id=\"df-b4226b6e-a988-4209-9bc0-0cdb0b462378\" class=\"colab-df-container\">\n",
              "    <div>\n",
              "<style scoped>\n",
              "    .dataframe tbody tr th:only-of-type {\n",
              "        vertical-align: middle;\n",
              "    }\n",
              "\n",
              "    .dataframe tbody tr th {\n",
              "        vertical-align: top;\n",
              "    }\n",
              "\n",
              "    .dataframe thead th {\n",
              "        text-align: right;\n",
              "    }\n",
              "</style>\n",
              "<table border=\"1\" class=\"dataframe\">\n",
              "  <thead>\n",
              "    <tr style=\"text-align: right;\">\n",
              "      <th></th>\n",
              "      <th>ZP</th>\n",
              "      <th>KS</th>\n",
              "    </tr>\n",
              "  </thead>\n",
              "  <tbody>\n",
              "    <tr>\n",
              "      <th>ZP</th>\n",
              "      <td>1.00000</td>\n",
              "      <td>0.88749</td>\n",
              "    </tr>\n",
              "    <tr>\n",
              "      <th>KS</th>\n",
              "      <td>0.88749</td>\n",
              "      <td>1.00000</td>\n",
              "    </tr>\n",
              "  </tbody>\n",
              "</table>\n",
              "</div>\n",
              "    <div class=\"colab-df-buttons\">\n",
              "\n",
              "  <div class=\"colab-df-container\">\n",
              "    <button class=\"colab-df-convert\" onclick=\"convertToInteractive('df-b4226b6e-a988-4209-9bc0-0cdb0b462378')\"\n",
              "            title=\"Convert this dataframe to an interactive table.\"\n",
              "            style=\"display:none;\">\n",
              "\n",
              "  <svg xmlns=\"http://www.w3.org/2000/svg\" height=\"24px\" viewBox=\"0 -960 960 960\">\n",
              "    <path d=\"M120-120v-720h720v720H120Zm60-500h600v-160H180v160Zm220 220h160v-160H400v160Zm0 220h160v-160H400v160ZM180-400h160v-160H180v160Zm440 0h160v-160H620v160ZM180-180h160v-160H180v160Zm440 0h160v-160H620v160Z\"/>\n",
              "  </svg>\n",
              "    </button>\n",
              "\n",
              "  <style>\n",
              "    .colab-df-container {\n",
              "      display:flex;\n",
              "      gap: 12px;\n",
              "    }\n",
              "\n",
              "    .colab-df-convert {\n",
              "      background-color: #E8F0FE;\n",
              "      border: none;\n",
              "      border-radius: 50%;\n",
              "      cursor: pointer;\n",
              "      display: none;\n",
              "      fill: #1967D2;\n",
              "      height: 32px;\n",
              "      padding: 0 0 0 0;\n",
              "      width: 32px;\n",
              "    }\n",
              "\n",
              "    .colab-df-convert:hover {\n",
              "      background-color: #E2EBFA;\n",
              "      box-shadow: 0px 1px 2px rgba(60, 64, 67, 0.3), 0px 1px 3px 1px rgba(60, 64, 67, 0.15);\n",
              "      fill: #174EA6;\n",
              "    }\n",
              "\n",
              "    .colab-df-buttons div {\n",
              "      margin-bottom: 4px;\n",
              "    }\n",
              "\n",
              "    [theme=dark] .colab-df-convert {\n",
              "      background-color: #3B4455;\n",
              "      fill: #D2E3FC;\n",
              "    }\n",
              "\n",
              "    [theme=dark] .colab-df-convert:hover {\n",
              "      background-color: #434B5C;\n",
              "      box-shadow: 0px 1px 3px 1px rgba(0, 0, 0, 0.15);\n",
              "      filter: drop-shadow(0px 1px 2px rgba(0, 0, 0, 0.3));\n",
              "      fill: #FFFFFF;\n",
              "    }\n",
              "  </style>\n",
              "\n",
              "    <script>\n",
              "      const buttonEl =\n",
              "        document.querySelector('#df-b4226b6e-a988-4209-9bc0-0cdb0b462378 button.colab-df-convert');\n",
              "      buttonEl.style.display =\n",
              "        google.colab.kernel.accessAllowed ? 'block' : 'none';\n",
              "\n",
              "      async function convertToInteractive(key) {\n",
              "        const element = document.querySelector('#df-b4226b6e-a988-4209-9bc0-0cdb0b462378');\n",
              "        const dataTable =\n",
              "          await google.colab.kernel.invokeFunction('convertToInteractive',\n",
              "                                                    [key], {});\n",
              "        if (!dataTable) return;\n",
              "\n",
              "        const docLinkHtml = 'Like what you see? Visit the ' +\n",
              "          '<a target=\"_blank\" href=https://colab.research.google.com/notebooks/data_table.ipynb>data table notebook</a>'\n",
              "          + ' to learn more about interactive tables.';\n",
              "        element.innerHTML = '';\n",
              "        dataTable['output_type'] = 'display_data';\n",
              "        await google.colab.output.renderOutput(dataTable, element);\n",
              "        const docLink = document.createElement('div');\n",
              "        docLink.innerHTML = docLinkHtml;\n",
              "        element.appendChild(docLink);\n",
              "      }\n",
              "    </script>\n",
              "  </div>\n",
              "\n",
              "\n",
              "<div id=\"df-b9258502-2d54-4bea-bf5a-5c13b02ec33a\">\n",
              "  <button class=\"colab-df-quickchart\" onclick=\"quickchart('df-b9258502-2d54-4bea-bf5a-5c13b02ec33a')\"\n",
              "            title=\"Suggest charts.\"\n",
              "            style=\"display:none;\">\n",
              "\n",
              "<svg xmlns=\"http://www.w3.org/2000/svg\" height=\"24px\"viewBox=\"0 0 24 24\"\n",
              "     width=\"24px\">\n",
              "    <g>\n",
              "        <path d=\"M19 3H5c-1.1 0-2 .9-2 2v14c0 1.1.9 2 2 2h14c1.1 0 2-.9 2-2V5c0-1.1-.9-2-2-2zM9 17H7v-7h2v7zm4 0h-2V7h2v10zm4 0h-2v-4h2v4z\"/>\n",
              "    </g>\n",
              "</svg>\n",
              "  </button>\n",
              "\n",
              "<style>\n",
              "  .colab-df-quickchart {\n",
              "      --bg-color: #E8F0FE;\n",
              "      --fill-color: #1967D2;\n",
              "      --hover-bg-color: #E2EBFA;\n",
              "      --hover-fill-color: #174EA6;\n",
              "      --disabled-fill-color: #AAA;\n",
              "      --disabled-bg-color: #DDD;\n",
              "  }\n",
              "\n",
              "  [theme=dark] .colab-df-quickchart {\n",
              "      --bg-color: #3B4455;\n",
              "      --fill-color: #D2E3FC;\n",
              "      --hover-bg-color: #434B5C;\n",
              "      --hover-fill-color: #FFFFFF;\n",
              "      --disabled-bg-color: #3B4455;\n",
              "      --disabled-fill-color: #666;\n",
              "  }\n",
              "\n",
              "  .colab-df-quickchart {\n",
              "    background-color: var(--bg-color);\n",
              "    border: none;\n",
              "    border-radius: 50%;\n",
              "    cursor: pointer;\n",
              "    display: none;\n",
              "    fill: var(--fill-color);\n",
              "    height: 32px;\n",
              "    padding: 0;\n",
              "    width: 32px;\n",
              "  }\n",
              "\n",
              "  .colab-df-quickchart:hover {\n",
              "    background-color: var(--hover-bg-color);\n",
              "    box-shadow: 0 1px 2px rgba(60, 64, 67, 0.3), 0 1px 3px 1px rgba(60, 64, 67, 0.15);\n",
              "    fill: var(--button-hover-fill-color);\n",
              "  }\n",
              "\n",
              "  .colab-df-quickchart-complete:disabled,\n",
              "  .colab-df-quickchart-complete:disabled:hover {\n",
              "    background-color: var(--disabled-bg-color);\n",
              "    fill: var(--disabled-fill-color);\n",
              "    box-shadow: none;\n",
              "  }\n",
              "\n",
              "  .colab-df-spinner {\n",
              "    border: 2px solid var(--fill-color);\n",
              "    border-color: transparent;\n",
              "    border-bottom-color: var(--fill-color);\n",
              "    animation:\n",
              "      spin 1s steps(1) infinite;\n",
              "  }\n",
              "\n",
              "  @keyframes spin {\n",
              "    0% {\n",
              "      border-color: transparent;\n",
              "      border-bottom-color: var(--fill-color);\n",
              "      border-left-color: var(--fill-color);\n",
              "    }\n",
              "    20% {\n",
              "      border-color: transparent;\n",
              "      border-left-color: var(--fill-color);\n",
              "      border-top-color: var(--fill-color);\n",
              "    }\n",
              "    30% {\n",
              "      border-color: transparent;\n",
              "      border-left-color: var(--fill-color);\n",
              "      border-top-color: var(--fill-color);\n",
              "      border-right-color: var(--fill-color);\n",
              "    }\n",
              "    40% {\n",
              "      border-color: transparent;\n",
              "      border-right-color: var(--fill-color);\n",
              "      border-top-color: var(--fill-color);\n",
              "    }\n",
              "    60% {\n",
              "      border-color: transparent;\n",
              "      border-right-color: var(--fill-color);\n",
              "    }\n",
              "    80% {\n",
              "      border-color: transparent;\n",
              "      border-right-color: var(--fill-color);\n",
              "      border-bottom-color: var(--fill-color);\n",
              "    }\n",
              "    90% {\n",
              "      border-color: transparent;\n",
              "      border-bottom-color: var(--fill-color);\n",
              "    }\n",
              "  }\n",
              "</style>\n",
              "\n",
              "  <script>\n",
              "    async function quickchart(key) {\n",
              "      const quickchartButtonEl =\n",
              "        document.querySelector('#' + key + ' button');\n",
              "      quickchartButtonEl.disabled = true;  // To prevent multiple clicks.\n",
              "      quickchartButtonEl.classList.add('colab-df-spinner');\n",
              "      try {\n",
              "        const charts = await google.colab.kernel.invokeFunction(\n",
              "            'suggestCharts', [key], {});\n",
              "      } catch (error) {\n",
              "        console.error('Error during call to suggestCharts:', error);\n",
              "      }\n",
              "      quickchartButtonEl.classList.remove('colab-df-spinner');\n",
              "      quickchartButtonEl.classList.add('colab-df-quickchart-complete');\n",
              "    }\n",
              "    (() => {\n",
              "      let quickchartButtonEl =\n",
              "        document.querySelector('#df-b9258502-2d54-4bea-bf5a-5c13b02ec33a button');\n",
              "      quickchartButtonEl.style.display =\n",
              "        google.colab.kernel.accessAllowed ? 'block' : 'none';\n",
              "    })();\n",
              "  </script>\n",
              "</div>\n",
              "    </div>\n",
              "  </div>\n"
            ]
          },
          "metadata": {},
          "execution_count": 9
        }
      ],
      "source": [
        "df = pd.DataFrame({'ZP': zp, 'KS': ks})\n",
        "df[['ZP', 'KS']].corr()\n"
      ]
    },
    {
      "cell_type": "code",
      "execution_count": 8,
      "id": "70018843",
      "metadata": {
        "colab": {
          "base_uri": "https://localhost:8080/"
        },
        "id": "70018843",
        "outputId": "7f26baea-a259-47f6-adac-7e9b9116ca32"
      },
      "outputs": [
        {
          "output_type": "stream",
          "name": "stdout",
          "text": [
            "Коэффициент корреляции:  0.8874900920739162\n"
          ]
        }
      ],
      "source": [
        "corr1 = np.corrcoef(zp, ks)[1, 0]\n",
        "print(\"Коэффициент корреляции: \", corr1)"
      ]
    },
    {
      "cell_type": "markdown",
      "id": "a2cd7836",
      "metadata": {
        "id": "a2cd7836"
      },
      "source": [
        "## Задача 2\n",
        "\n",
        "_Измерены значения IQ выборки студентов, обучающихся в местных технических вузах:_  \n",
        "> 131, 125, 115, 122, 131, 115, 107, 99, 125, 111  \n",
        "\n",
        "_Известно, что в генеральной совокупности IQ распределен нормально. Найдите_\n",
        "_доверительный интервал для математического ожидания с надежностью 0.95_"
      ]
    },
    {
      "cell_type": "code",
      "execution_count": 12,
      "id": "8195354c",
      "metadata": {
        "id": "8195354c"
      },
      "outputs": [],
      "source": [
        "iq = np.array([131, 125, 115, 122, 131, 115, 107, 99, 125, 111])"
      ]
    },
    {
      "cell_type": "code",
      "execution_count": 13,
      "id": "beefc636",
      "metadata": {
        "id": "beefc636"
      },
      "outputs": [],
      "source": [
        "n = iq.shape[0]\n",
        "m = iq.mean()\n",
        "s = iq.std(ddof=1)\n",
        "t = stats.t.ppf(0.975, 9)"
      ]
    },
    {
      "cell_type": "markdown",
      "id": "8ac642f6",
      "metadata": {
        "id": "8ac642f6"
      },
      "source": [
        "Доверительный интервал для оценки истинного (генерального) значения:"
      ]
    },
    {
      "cell_type": "code",
      "execution_count": 14,
      "id": "91d65d65",
      "metadata": {
        "colab": {
          "base_uri": "https://localhost:8080/"
        },
        "id": "91d65d65",
        "outputId": "2151e1b7-3a46-4733-93c8-3d252044a97e"
      },
      "outputs": [
        {
          "output_type": "stream",
          "name": "stdout",
          "text": [
            "110.55608365158724 125.64391634841274\n"
          ]
        },
        {
          "output_type": "execute_result",
          "data": {
            "text/plain": [
              "(110.55608365158724, 125.64391634841274)"
            ]
          },
          "metadata": {},
          "execution_count": 14
        }
      ],
      "source": [
        "print(m - t * s / np.sqrt(n),  m + t * s / np.sqrt(n))\n",
        "stats.t.interval(0.95 , df=len(iq)-1, loc=np.mean(iq), scale=stats.sem(iq))"
      ]
    },
    {
      "cell_type": "markdown",
      "id": "609a8fff",
      "metadata": {
        "id": "609a8fff"
      },
      "source": [
        "Доверительный интервал:  $(110.556; 125.644)$"
      ]
    },
    {
      "cell_type": "markdown",
      "id": "1b05faba",
      "metadata": {
        "id": "1b05faba"
      },
      "source": [
        "## Задача 3.\n",
        "\n",
        "_Известно, что рост футболистов в сборной распределен нормально с  дисперсией генеральной совокупности, равной 25 кв.см. На выборки объёма 27, среднее выборочное составляет 174.2._  \n",
        ">\n",
        "_Найдите доверительный интервал для математического ожидания с надежностью 0.95._\n"
      ]
    },
    {
      "cell_type": "markdown",
      "id": "54a9db67",
      "metadata": {
        "id": "54a9db67"
      },
      "source": [
        "$\\underline{X}\\pm Z_\\frac{\\alpha}{2}\\cdot\\frac{\\sigma}{\\sqrt{n}}$\n",
        "\n",
        "$Z_\\frac{\\alpha}{2}=1.96$\n",
        "\n",
        "$174.2\\pm 1.96\\cdot\\frac{5}{\\sqrt{27}}$\n"
      ]
    },
    {
      "cell_type": "code",
      "execution_count": 15,
      "id": "8babe57f",
      "metadata": {
        "colab": {
          "base_uri": "https://localhost:8080/"
        },
        "id": "8babe57f",
        "outputId": "a0d7efc7-bde1-49bd-8a37-219d2256d0f3"
      },
      "outputs": [
        {
          "output_type": "stream",
          "name": "stdout",
          "text": [
            "172.31398912064722 176.08601087935276\n"
          ]
        }
      ],
      "source": [
        "n = 27\n",
        "m = 174.2\n",
        "s = 5\n",
        "z = 1.96\n",
        "print(m - z * s / np.sqrt(n), m + z * s / np.sqrt(n))"
      ]
    },
    {
      "cell_type": "markdown",
      "id": "bb823dc4",
      "metadata": {
        "id": "bb823dc4"
      },
      "source": [
        "Доверительный интервал: $[172.314;176.086]$"
      ]
    }
  ],
  "metadata": {
    "kernelspec": {
      "display_name": "Python 3",
      "language": "python",
      "name": "python3"
    },
    "language_info": {
      "codemirror_mode": {
        "name": "ipython",
        "version": 3
      },
      "file_extension": ".py",
      "mimetype": "text/x-python",
      "name": "python",
      "nbconvert_exporter": "python",
      "pygments_lexer": "ipython3",
      "version": "3.11.1"
    },
    "vscode": {
      "interpreter": {
        "hash": "867b719568835d2758971036323f4589e1a00f73e0a167b563d81825d1a5986e"
      }
    },
    "colab": {
      "provenance": []
    }
  },
  "nbformat": 4,
  "nbformat_minor": 5
}